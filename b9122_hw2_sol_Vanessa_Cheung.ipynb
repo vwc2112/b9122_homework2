{
 "cells": [
  {
   "cell_type": "code",
   "execution_count": 61,
   "metadata": {},
   "outputs": [],
   "source": [
    "import requests\n",
    "import urllib.request\n",
    "from bs4 import BeautifulSoup"

   ]
  },
  {
   "cell_type": "markdown",
   "metadata": {},
   "source": [
    "# Question 1"
   ]
  },
  {
   "cell_type": "code",
   "execution_count": 62,
   "metadata": {},
   "outputs": [],
   "source": [
    "seed_url = 'https://press.un.org/en'\n",
    "\n",
    "urls = [seed_url]\n",
    "seen = [seed_url]\n",
    "opened = []\n",
    "pr = []\n",
    "\n",
    "while len(urls) > 0 and len(pr) < 10:\n",
    "    try:\n",
    "        curr_url = urls.pop(0)\n",
    "        req = urllib.request.Request(curr_url, headers={'User-Agent': 'Mozilla/5.0'})\n",
    "        webpage = urllib.request.urlopen(req).read()\n",
    "        opened.append(curr_url)\n",
    "\n",
    "        soup = BeautifulSoup(webpage, 'html.parser')\n",
    "        pr_link = soup.find('a', hreflang='en', href='/en/press-release')\n",
    "        \n",
    "        if pr_link is not None and 'crisis' in soup.get_text().lower():\n",
    "            pr.append(curr_url)\n",
    "\n",
    "        for tag in soup.find_all('a', href=True):\n",
    "            child_url = urllib.parse.urljoin(seed_url, tag['href'])\n",
    "            if seed_url in child_url and child_url not in seen:\n",
    "                urls.append(child_url)\n",
    "                seen.append(child_url)\n",
    "            else:\n",
    "                continue\n",
    "\n",
    "    except Exception as ex:\n",
    "        continue"
   ]
  },
  {
   "cell_type": "code",
   "execution_count": 63,
   "metadata": {},
   "outputs": [
    {
     "data": {
      "text/plain": [
       "['https://press.un.org/en/2023/sgsm21982.doc.htm',\n",
       " 'https://press.un.org/en/2023/sgsm21980.doc.htm',\n",
       " 'https://press.un.org/en/2023/sgsm21978.doc.htm',\n",
       " 'https://press.un.org/en/2023/sgsm21947.doc.htm',\n",
       " 'https://press.un.org/en/2023/dsgsm1874.doc.htm',\n",
       " 'https://press.un.org/en/2023/sgsm21952.doc.htm',\n",
       " 'https://press.un.org/en/2023/sgsm21876.doc.htm',\n",
       " 'https://press.un.org/en/2023/sgsm21852.doc.htm',\n",
       " 'https://press.un.org/en/2023/sgsm21806.doc.htm',\n",
       " 'https://press.un.org/en/2023/dsgsm1848.doc.htm']"
      ]
     },
     "execution_count": 63,
     "metadata": {},
     "output_type": "execute_result"
    }
   ],
   "source": [
    "pr"
   ]
  },
  {
   "cell_type": "code",
   "execution_count": 64,
   "metadata": {},
   "outputs": [],
   "source": [
    "for i in range(10):\n",
    "    file = f'1_{i+1}.txt'\n",
    "    with open(file, 'w', encoding='utf-8') as f:\n",
    "        response = requests.get(pr[i])\n",
    "        soup = BeautifulSoup(response.content, 'html.parser')\n",
    "        f.write(soup.prettify())"
   ]
  },
  {
   "cell_type": "markdown",
   "metadata": {},
   "source": [
    "# Question 2"
   ]
  },
  {
   "cell_type": "code",
   "execution_count": 65,
   "metadata": {},
   "outputs": [],
   "source": [
    "seed_url2 = 'https://www.europarl.europa.eu/news/en/press-room'\n",
    "\n",
    "urls2 = [seed_url2]\n",
    "seen2 = [seed_url2]\n",
    "opened2 = []\n",
    "pr2 = []\n",
    "\n",
    "while len(urls2) > 0 and len(pr2) < 10:\n",
    "    try:\n",
    "        curr_url2 = urls2.pop(0)\n",
    "        req2 = urllib.request.Request(curr_url2, headers={'User-Agent': 'Mozilla/5.0'})\n",
    "        webpage2 = urllib.request.urlopen(req2).read()\n",
    "        opened2.append(curr_url2)\n",
    "        \n",
    "        soup2 = BeautifulSoup(webpage2, 'html.parser')\n",
    "        pr_link2 = soup2.find('span', class_='ep_name', text='Plenary session')\n",
    "        pr_link3 = soup2.find('span', class_='ep_name', text='Press Releases')\n",
    "\n",
    "        if pr_link2 is not None and pr_link3 is not None and 'crisis' in soup2.get_text().lower():\n",
    "            pr2.append(curr_url2)\n",
    "\n",
    "        for tag in soup2.find_all('a', href=True):\n",
    "            child_url2 = urllib.parse.urljoin(seed_url2, tag['href'])\n",
    "            if seed_url2 in child_url2 and child_url2 not in seen2:\n",
    "                urls2.append(child_url2)\n",
    "                seen2.append(child_url2)\n",
    "            else:\n",
    "                continue\n",
    "    \n",
    "    except Exception as ex:\n",
    "        continue"
   ]
  },
  {
   "cell_type": "code",
   "execution_count": 66,
   "metadata": {},
   "outputs": [
    {
     "data": {
      "text/plain": [
       "['https://www.europarl.europa.eu/news/en/press-room/20230929IPR06132/nagorno-karabakh-meps-demand-review-of-eu-relations-with-azerbaijan',\n",
       " 'https://www.europarl.europa.eu/news/en/press-room/20221209IPR64426/eu-long-term-budget-needs-urgent-revision-to-cope-with-current-crises',\n",
       " 'https://www.europarl.europa.eu/news/en/press-room/20210304IPR99207/parliament-gives-green-light-for-new-eu4health-programme',\n",
       " 'https://www.europarl.europa.eu/news/en/press-room/20220909IPR40138/parliament-adopts-new-rules-on-adequate-minimum-wages-for-all-workers-in-the-eu',\n",
       " 'https://www.europarl.europa.eu/news/en/press-room/20230310IPR77232/minimum-income-schemes-increasing-support-accessibility-and-inclusion',\n",
       " 'https://www.europarl.europa.eu/news/en/press-room/20230210IPR74806/green-deal-industrial-plan-securing-the-eu-s-clean-tech-leadership',\n",
       " 'https://www.europarl.europa.eu/news/en/press-room/20230707IPR02421/parliament-adopts-new-rules-to-boost-energy-savings',\n",
       " 'https://www.europarl.europa.eu/news/en/press-room/20220321IPR25913/more-eu-action-needed-for-secure-food-supply',\n",
       " 'https://www.europarl.europa.eu/news/en/press-room/20221209IPR64427/holodomor-parliament-recognises-soviet-starvation-of-ukrainians-as-genocide',\n",
       " 'https://www.europarl.europa.eu/news/en/press-room/20210422IPR02615/civil-protection-faster-eu-response-to-large-scale-emergencies']"
      ]
     },
     "execution_count": 66,
     "metadata": {},
     "output_type": "execute_result"
    }
   ],
   "source": [
    "pr2"
   ]
  },
  {
   "cell_type": "code",
   "execution_count": 67,
   "metadata": {},
   "outputs": [],
   "source": [
    "for i in range(10):\n",
    "    file2 = f'2_{i+1}.txt'\n",
    "    with open(file2, 'w', encoding='utf-8') as f2:\n",
    "        response2 = requests.get(pr2[i])\n",
    "        soup2 = BeautifulSoup(response2.content, 'html.parser')\n",
    "        f2.write(soup2.prettify())"
   ]
  },
  {
   "cell_type": "code",
   "execution_count": null,
   "metadata": {},
   "outputs": [],
   "source": []
  }
 ],
 "metadata": {
  "kernelspec": {
   "display_name": "Python 3",
   "language": "python",
   "name": "python3"
  },
  "language_info": {
   "codemirror_mode": {
    "name": "ipython",
    "version": 3
   },
   "file_extension": ".py",
   "mimetype": "text/x-python",
   "name": "python",
   "nbconvert_exporter": "python",
   "pygments_lexer": "ipython3",
   "version": "3.8.5"
  }
 },
 "nbformat": 4,
 "nbformat_minor": 4
}
